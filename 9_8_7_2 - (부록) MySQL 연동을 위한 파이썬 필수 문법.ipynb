{
 "cells": [
  {
   "cell_type": "code",
   "execution_count": null,
   "id": "83ad1778",
   "metadata": {},
   "outputs": [],
   "source": [
    "#변수와 선언\n",
    "boolVar, intVar, floatVar, strVar = True, 0, 0.0, \"\""
   ]
  },
  {
   "cell_type": "code",
   "execution_count": 2,
   "id": "b4b436a3",
   "metadata": {},
   "outputs": [],
   "source": [
    "boolvar=True\n",
    "intVar=0\n",
    "floatvar=0.0\n",
    "strVar=\"\""
   ]
  },
  {
   "cell_type": "code",
   "execution_count": 3,
   "id": "d0b59600",
   "metadata": {},
   "outputs": [
    {
     "data": {
      "text/plain": [
       "(bool, int, float, str)"
      ]
     },
     "execution_count": 3,
     "metadata": {},
     "output_type": "execute_result"
    }
   ],
   "source": [
    "type(boolVar), type(intVar), type(floatVar), type(strVar)"
   ]
  },
  {
   "cell_type": "code",
   "execution_count": 4,
   "id": "02584bc6",
   "metadata": {},
   "outputs": [
    {
     "name": "stdout",
     "output_type": "stream",
     "text": [
      "안녕하세요?\n"
     ]
    }
   ],
   "source": [
    "#print() 함수\n",
    "print(\"안녕하세요?\")"
   ]
  },
  {
   "cell_type": "code",
   "execution_count": 5,
   "id": "b32f3c4a",
   "metadata": {},
   "outputs": [
    {
     "name": "stdout",
     "output_type": "stream",
     "text": [
      "100+100\n",
      "200\n"
     ]
    }
   ],
   "source": [
    "print(\"100+100\")\n",
    "print(\"%d\" % (100+100))"
   ]
  },
  {
   "cell_type": "code",
   "execution_count": 7,
   "id": "7381c226",
   "metadata": {},
   "outputs": [
    {
     "ename": "TypeError",
     "evalue": "not all arguments converted during string formatting",
     "output_type": "error",
     "traceback": [
      "\u001b[1;31m---------------------------------------------------------------------------\u001b[0m",
      "\u001b[1;31mTypeError\u001b[0m                                 Traceback (most recent call last)",
      "Cell \u001b[1;32mIn[7], line 1\u001b[0m\n\u001b[1;32m----> 1\u001b[0m \u001b[38;5;28mprint\u001b[39m(\u001b[38;5;124m\"\u001b[39m\u001b[38;5;132;01m%d\u001b[39;00m\u001b[38;5;124m\"\u001b[39m \u001b[38;5;241m%\u001b[39m (\u001b[38;5;241m100\u001b[39m,\u001b[38;5;241m100\u001b[39m))\n\u001b[0;32m      2\u001b[0m \u001b[38;5;28mprint\u001b[39m(\u001b[38;5;124m\"\u001b[39m\u001b[38;5;132;01m%d\u001b[39;00m\u001b[38;5;124m \u001b[39m\u001b[38;5;132;01m%d\u001b[39;00m\u001b[38;5;124m\"\u001b[39m \u001b[38;5;241m%\u001b[39m (\u001b[38;5;241m100\u001b[39m))\n",
      "\u001b[1;31mTypeError\u001b[0m: not all arguments converted during string formatting"
     ]
    }
   ],
   "source": [
    "print(\"%d\" % (100,100))\n",
    "print(\"%d %d\" % (100))\n",
    "## 오류 발생"
   ]
  },
  {
   "cell_type": "code",
   "execution_count": 8,
   "id": "6c13248e",
   "metadata": {},
   "outputs": [
    {
     "name": "stdout",
     "output_type": "stream",
     "text": [
      "100 200\n"
     ]
    }
   ],
   "source": [
    "print(\"%d %d\" % (100,200))"
   ]
  },
  {
   "cell_type": "code",
   "execution_count": 10,
   "id": "5bcf75bb",
   "metadata": {},
   "outputs": [
    {
     "name": "stdout",
     "output_type": "stream",
     "text": [
      "100\n"
     ]
    }
   ],
   "source": [
    "print(\"%d\" % (100))"
   ]
  },
  {
   "cell_type": "code",
   "execution_count": 12,
   "id": "944dc6ae",
   "metadata": {},
   "outputs": [
    {
     "name": "stdout",
     "output_type": "stream",
     "text": [
      "8 2 15 1.6666666666666667 1 2 125\n"
     ]
    }
   ],
   "source": [
    "#산술 연산자\n",
    "a=5; b=3\n",
    "print(a+b, a-b, a*b, a/b, a//b, a%b, a**b)"
   ]
  },
  {
   "cell_type": "code",
   "execution_count": 13,
   "id": "7503ec1f",
   "metadata": {},
   "outputs": [
    {
     "name": "stdout",
     "output_type": "stream",
     "text": [
      "False True False True False True\n"
     ]
    }
   ],
   "source": [
    "#관계 연산자\n",
    "a,b=100,200\n",
    "print(a==b, a!=b, a>b, a<b, a>=b, a<=b)"
   ]
  },
  {
   "cell_type": "code",
   "execution_count": 14,
   "id": "2b78f711",
   "metadata": {},
   "outputs": [
    {
     "name": "stdout",
     "output_type": "stream",
     "text": [
      "101 101.123 10000000000000000000\n"
     ]
    }
   ],
   "source": [
    "#문자열과 숫자의 상호 변환\n",
    "s1, s2, s3 = \"100\", \"100.123\", \"9999999999999999999\"\n",
    "print(int(s1)+1, float(s2)+1, int(s3)+1)"
   ]
  },
  {
   "cell_type": "code",
   "execution_count": 21,
   "id": "8da2f054",
   "metadata": {},
   "outputs": [
    {
     "name": "stdout",
     "output_type": "stream",
     "text": [
      "1001 100.1231\n"
     ]
    }
   ],
   "source": [
    "a=100; b=100.123\n",
    "print(str(a)+'1', str(b)+'1')"
   ]
  },
  {
   "cell_type": "code",
   "execution_count": null,
   "id": "18628741",
   "metadata": {},
   "outputs": [
    {
     "name": "stdout",
     "output_type": "stream",
     "text": [
      "100보다 작군요.\n"
     ]
    }
   ],
   "source": [
    "#기본 if문\n",
    "a=99\n",
    "if a<100:\n",
    "    print('100보다 작군요.')"
   ]
  },
  {
   "cell_type": "code",
   "execution_count": null,
   "id": "031842f3",
   "metadata": {},
   "outputs": [
    {
     "name": "stdout",
     "output_type": "stream",
     "text": [
      "100보다 크군요.\n"
     ]
    }
   ],
   "source": [
    "#if ~ else문\n",
    "a=200\n",
    "if a < 100:\n",
    "    print(\"100보다 작군요.\")\n",
    "else:\n",
    "    print(\"100보다 크군요.\")"
   ]
  },
  {
   "cell_type": "code",
   "execution_count": 24,
   "id": "bc7ab36a",
   "metadata": {},
   "outputs": [
    {
     "name": "stdout",
     "output_type": "stream",
     "text": [
      "안녕하세요? for문을 공부중입니다. ^^\n",
      "안녕하세요? for문을 공부중입니다. ^^\n",
      "안녕하세요? for문을 공부중입니다. ^^\n"
     ]
    }
   ],
   "source": [
    "#for문의 개념과 작동\n",
    "for i in range(0,3,1):\n",
    "    print(\"안녕하세요? for문을 공부중입니다. ^^\")"
   ]
  },
  {
   "cell_type": "code",
   "execution_count": 25,
   "id": "4fb1d844",
   "metadata": {},
   "outputs": [
    {
     "name": "stdout",
     "output_type": "stream",
     "text": [
      "안녕하세요? for문을 공부중입니다. ^^\n",
      "안녕하세요? for문을 공부중입니다. ^^\n",
      "안녕하세요? for문을 공부중입니다. ^^\n"
     ]
    }
   ],
   "source": [
    "for i in [0,1,2]:\n",
    "    print(\"안녕하세요? for문을 공부중입니다. ^^\")"
   ]
  },
  {
   "cell_type": "code",
   "execution_count": null,
   "id": "a079edcf",
   "metadata": {},
   "outputs": [],
   "source": [
    "#무한 루프를 위한 while문 (실행 금지)\n",
    "while True:\n",
    "    print(\"ㅋ \", end=\" \")"
   ]
  },
  {
   "cell_type": "code",
   "execution_count": 1,
   "id": "e444e0a3",
   "metadata": {},
   "outputs": [
    {
     "name": "stdout",
     "output_type": "stream",
     "text": [
      "for문을 1번 실행했습니다\n"
     ]
    }
   ],
   "source": [
    "#반복문을 탈출하는 break문\n",
    "for i in range(1,100):\n",
    "    print(\"for문을 %d번 실행했습니다\" % i)\n",
    "    break"
   ]
  },
  {
   "cell_type": "code",
   "execution_count": 3,
   "id": "d3a89c7b",
   "metadata": {},
   "outputs": [
    {
     "name": "stdout",
     "output_type": "stream",
     "text": [
      "10\n",
      "[10, 200, 30, 40]\n"
     ]
    }
   ],
   "source": [
    "#리스트의 개념\n",
    "\n",
    "#리스트의 생성과 사용 방법\n",
    "aa = [10,20,30,40]\n",
    "print(aa[0])\n",
    "aa[1] = 200\n",
    "print(aa)"
   ]
  },
  {
   "cell_type": "code",
   "execution_count": 4,
   "id": "caa58761",
   "metadata": {},
   "outputs": [
    {
     "name": "stdout",
     "output_type": "stream",
     "text": [
      "[0, 0, 0, 0]\n"
     ]
    }
   ],
   "source": [
    "#빈 리스트와 리스트 추가\n",
    "aa =[]\n",
    "aa.append(0)\n",
    "aa.append(0)\n",
    "aa.append(0)\n",
    "aa.append(0)\n",
    "print(aa)"
   ]
  },
  {
   "cell_type": "code",
   "execution_count": 6,
   "id": "5c654dae",
   "metadata": {},
   "outputs": [
    {
     "name": "stdout",
     "output_type": "stream",
     "text": [
      "[0, 0, 0, 0, 0, 0, 0, 0, 0, 0, 0, 0, 0, 0, 0, 0, 0, 0, 0, 0, 0, 0, 0, 0, 0, 0, 0, 0, 0, 0, 0, 0, 0, 0, 0, 0, 0, 0, 0, 0, 0, 0, 0, 0, 0, 0, 0, 0, 0, 0, 0, 0, 0, 0, 0, 0, 0, 0, 0, 0, 0, 0, 0, 0, 0, 0, 0, 0, 0, 0, 0, 0, 0, 0, 0, 0, 0, 0, 0, 0, 0, 0, 0, 0, 0, 0, 0, 0, 0, 0, 0, 0, 0, 0, 0, 0, 0, 0, 0, 0]\n"
     ]
    },
    {
     "data": {
      "text/plain": [
       "100"
      ]
     },
     "execution_count": 6,
     "metadata": {},
     "output_type": "execute_result"
    }
   ],
   "source": [
    "aa = []\n",
    "for i in range(0,100):\n",
    "    aa.append(0)\n",
    "print(aa)\n",
    "len(aa)"
   ]
  },
  {
   "cell_type": "code",
   "execution_count": 9,
   "id": "b391b2e2",
   "metadata": {},
   "outputs": [
    {
     "name": "stdout",
     "output_type": "stream",
     "text": [
      " 합계  ==> 100 \n"
     ]
    }
   ],
   "source": [
    "aa=[]\n",
    "for i in range(0,4):\n",
    "    aa.append(0)\n",
    "    \n",
    "for i in range(0,4):\n",
    "    aa[i] = int(input(str(i+1) + \"번째 숫자 : \"))\n",
    "    \n",
    "hap = 0\n",
    "for i in range(0,4):\n",
    "    hap = hap + aa[i]\n",
    "    \n",
    "print(\" 합계  ==> %d \" %hap)"
   ]
  },
  {
   "cell_type": "code",
   "execution_count": null,
   "id": "cb2765d2",
   "metadata": {},
   "outputs": [
    {
     "name": "stdout",
     "output_type": "stream",
     "text": [
      "떡볶이 --> 오뎅\n",
      "짜장면 --> 단무지\n",
      "라면 --> 김치\n"
     ]
    }
   ],
   "source": [
    "#여러 리스트를 동시에 순회하는 zip() 함수\n",
    "foods = ['떡볶이', '짜장면', '라면', '피자', '맥주', '치킨', '삼겹살']\n",
    "sides = ['오뎅', '단무지', '김치']\n",
    "for food, side in zip (foods, sides):\n",
    "    print(food, '-->', side)\n",
    "# 개수가 다르지만, 개수가 가장 작은 것까지만 접근한 후 종료"
   ]
  },
  {
   "cell_type": "code",
   "execution_count": null,
   "id": "70f58aba",
   "metadata": {},
   "outputs": [
    {
     "name": "stdout",
     "output_type": "stream",
     "text": [
      "[('떡볶이', '오뎅'), ('짜장면', '단무지'), ('라면', '김치')]\n",
      "{'떡볶이': '오뎅', '짜장면': '단무지', '라면': '김치'}\n"
     ]
    }
   ],
   "source": [
    "foods = ['떡볶이', '짜장면', '라면']\n",
    "sides = ['오뎅', '단무지', '김치']\n",
    "tupList = list(zip(foods,sides))    # 인덱스 - 튜플\n",
    "dic = dict(zip(foods,sides))        # 딕셔너리\n",
    "print(tupList)\n",
    "print(dic)"
   ]
  },
  {
   "cell_type": "code",
   "execution_count": 13,
   "id": "586b2c92",
   "metadata": {},
   "outputs": [
    {
     "name": "stdout",
     "output_type": "stream",
     "text": [
      "현재 리스트 : [30, 10, 20]\n",
      "append(40) 후의 리스트 : [30, 10, 20, 40]\n",
      "pop()으로 추출한 값 : 40\n",
      "pop() 후의 리스트 : [30, 10, 20]\n",
      "sort() 후의 리스트 : [10, 20, 30]\n",
      "reverse() 후의 리스트 : [30, 20, 10]\n",
      "20 값의 위치 : 1\n",
      "insert(2, 222) 후의 리스트 : [30, 20, 222, 10]\n",
      "remove(222) 후의 리스트 : [30, 20, 10]\n",
      "extend([77,88,77]) 후의 리스트 : [30, 20, 10, 77, 88, 77]\n",
      "77 값의 개수 : 2\n"
     ]
    }
   ],
   "source": [
    "#리스트 조작 함수\n",
    "mylist = [30,10,20]\n",
    "print(\"현재 리스트 : %s\" % mylist)\n",
    "\n",
    "mylist.append(40)\n",
    "print(\"append(40) 후의 리스트 : %s\" % mylist)\n",
    "\n",
    "print(\"pop()으로 추출한 값 : %s\" % mylist.pop())\n",
    "\n",
    "print(\"pop() 후의 리스트 : %s\" % mylist)\n",
    "\n",
    "mylist.sort()\n",
    "print(\"sort() 후의 리스트 : %s\" % mylist)\n",
    "\n",
    "mylist.reverse()\n",
    "print(\"reverse() 후의 리스트 : %s\" % mylist)\n",
    "\n",
    "print(\"20 값의 위치 : %d\" % mylist.index(20))\n",
    "\n",
    "mylist.insert(2, 222)\n",
    "print(\"insert(2, 222) 후의 리스트 : %s\" % mylist)\n",
    "\n",
    "mylist.remove(222)\n",
    "print(\"remove(222) 후의 리스트 : %s\" % mylist)\n",
    "\n",
    "mylist.extend([77,88,77])\n",
    "print(\"extend([77,88,77]) 후의 리스트 : %s\" % mylist)\n",
    "\n",
    "print(\"77 값의 개수 : %d\" % mylist.count(77))"
   ]
  },
  {
   "cell_type": "code",
   "execution_count": 15,
   "id": "553024d7",
   "metadata": {},
   "outputs": [
    {
     "name": "stdout",
     "output_type": "stream",
     "text": [
      "파\n",
      "이썬\n",
      "최고\n"
     ]
    }
   ],
   "source": [
    "# 문자열 기본\n",
    "\n",
    "ss = \"파이썬최고\"\n",
    "print(ss[0])\n",
    "print(ss[1:3])\n",
    "print(ss[3:])"
   ]
  },
  {
   "cell_type": "code",
   "execution_count": 16,
   "id": "7bd5b917",
   "metadata": {},
   "outputs": [
    {
     "name": "stdout",
     "output_type": "stream",
     "text": [
      "파이썬최고\n",
      "파이썬파이썬파이썬\n"
     ]
    }
   ],
   "source": [
    "ss = '파이썬' + '최고'\n",
    "print(ss)\n",
    "ss = '파이썬' * 3\n",
    "print(ss)"
   ]
  },
  {
   "cell_type": "code",
   "execution_count": 18,
   "id": "8b57de14",
   "metadata": {},
   "outputs": [
    {
     "data": {
      "text/plain": [
       "7"
      ]
     },
     "execution_count": 18,
     "metadata": {},
     "output_type": "execute_result"
    }
   ],
   "source": [
    "ss = '파이썬abcd'\n",
    "len(ss)"
   ]
  },
  {
   "cell_type": "code",
   "execution_count": 22,
   "id": "be7b3d8d",
   "metadata": {},
   "outputs": [
    {
     "name": "stdout",
     "output_type": "stream",
     "text": [
      "2\n",
      "4 21 21 -1\n",
      "4 21 21\n",
      "True False True\n"
     ]
    }
   ],
   "source": [
    "ss = '파이썬 공부는 즐겁습니다. 물론 모든 공부가 다 재미있지는 않죠. ^^'\n",
    "print(ss.count('공부'))\n",
    "print(ss.find('공부'), ss.rfind('공부'), ss.find('공부', 5), ss.find('없다'))\n",
    "print(ss.index('공부'), ss.rindex('공부'), ss.index('공부', 5))\n",
    "print(ss.startswith('파이썬'), ss.startswith('파이썬', 10), ss.endswith('^^'))"
   ]
  },
  {
   "cell_type": "code",
   "execution_count": 24,
   "id": "dddc84f8",
   "metadata": {},
   "outputs": [
    {
     "name": "stdout",
     "output_type": "stream",
     "text": [
      "['Python을', '열심히', '공부', '중']\n",
      "['하나', '둘', '셋']\n",
      "['하나', '둘', '셋']\n",
      "파%이%썬\n"
     ]
    }
   ],
   "source": [
    "ss = 'Python을 열심히 공부 중'\n",
    "print(ss.split())\n",
    "\n",
    "ss = '하나:둘:셋'\n",
    "print(ss.split(':'))\n",
    "\n",
    "ss = '하나\\n둘\\n셋'\n",
    "print(ss.splitlines())\n",
    "\n",
    "ss='%'\n",
    "print(ss.join('파이썬'))"
   ]
  },
  {
   "cell_type": "code",
   "execution_count": 25,
   "id": "0e8aeccf",
   "metadata": {},
   "outputs": [
    {
     "name": "stdout",
     "output_type": "stream",
     "text": [
      "혼공 SQL\n"
     ]
    }
   ],
   "source": [
    "# 함수의 개념\n",
    "print(\"혼공 SQL\")   #대표적인 함수"
   ]
  },
  {
   "cell_type": "code",
   "execution_count": null,
   "id": "be4069d4",
   "metadata": {},
   "outputs": [
    {
     "name": "stdout",
     "output_type": "stream",
     "text": [
      "100과 200의 plus() 함수 결과는 300\n"
     ]
    }
   ],
   "source": [
    "# 함수의 기본\n",
    "\n",
    "## 함수 선언부\n",
    "def plus(v1, v2):\n",
    "    result = v1 + v2\n",
    "    return result\n",
    "\n",
    "## 전역 변수부\n",
    "hap = 0\n",
    "\n",
    "## 메인코드\n",
    "hap = plus(100,200)\n",
    "print(\"100과 200의 plus() 함수 결과는 %d\" %hap)"
   ]
  },
  {
   "cell_type": "code",
   "execution_count": 29,
   "id": "72764e85",
   "metadata": {},
   "outputs": [
    {
     "name": "stdout",
     "output_type": "stream",
     "text": [
      "func1()에서 a의 값 10\n",
      "func2()에서 a의 값 20\n"
     ]
    }
   ],
   "source": [
    "#지역 변수와 전역 변수의 이해\n",
    "\n",
    "## 함수 선언부\n",
    "def func1():\n",
    "    a=10    #지역 변수\n",
    "    print(\"func1()에서 a의 값 %d\" %a)\n",
    "\n",
    "def func2():\n",
    "    print(\"func2()에서 a의 값 %d\" %a)\n",
    "    \n",
    "## 전역 변수 선언부\n",
    "a=20    #전역 변수\n",
    "\n",
    "## 메인 코드\n",
    "func1()\n",
    "func2()"
   ]
  }
 ],
 "metadata": {
  "kernelspec": {
   "display_name": "base",
   "language": "python",
   "name": "python3"
  },
  "language_info": {
   "codemirror_mode": {
    "name": "ipython",
    "version": 3
   },
   "file_extension": ".py",
   "mimetype": "text/x-python",
   "name": "python",
   "nbconvert_exporter": "python",
   "pygments_lexer": "ipython3",
   "version": "3.12.7"
  }
 },
 "nbformat": 4,
 "nbformat_minor": 5
}
